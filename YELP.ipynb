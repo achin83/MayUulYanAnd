{
 "cells": [
  {
   "cell_type": "code",
   "execution_count": null,
   "metadata": {},
   "outputs": [],
   "source": [
    "#LIMITATIONS:\n",
    "#    50 results per query\n",
    "#    Unable to filter by ratings (no input parameter available)"
   ]
  },
  {
   "cell_type": "code",
   "execution_count": 21,
   "metadata": {},
   "outputs": [],
   "source": [
    "# Import required dependencies\n",
    "import json\n",
    "import time\n",
    "import csv\n",
    "import requests\n",
    "import pandas as pd\n",
    "from pprint import pprint\n",
    "from config import api_key, client_id"
   ]
  },
  {
   "cell_type": "code",
   "execution_count": 22,
   "metadata": {},
   "outputs": [],
   "source": [
    "#Prepare empty lists to store all data\n",
    "restaurant_name = []\n",
    "restaurant_id = []\n",
    "restaurant_rating = []\n",
    "restaurant_reviewcount = []\n",
    "restaurant_city = []\n",
    "restaurant_state = []\n",
    "restaurant_zipcode = []\n",
    "restaurant_price=[]\n",
    "restaurant_type = []\n",
    "restaurant_category = []\n",
    "\n",
    "#Necessary to pass header in each API request.  Do not change this.\n",
    "headers = {'Authorization': f\"Bearer {api_key}\"}\n",
    "base_url = 'https://api.yelp.com/v3/businesses/search?'\n",
    "base_filters = '&categories=Restaurants&limit=50&is_closed=0'\n",
    "\n",
    "# Construct the URL to request Yelp API data\n",
    "\n",
    "                #San Francisco, CA\n",
    "url_location = ['94123', '94115', '94114', '94105', '94133', \n",
    "                #New York, NY\n",
    "               '10025', '10002', '10029', '10023', '10009',\n",
    "                #Nebraska (Abie, Craig, Memphis, South Bend, Washington)\n",
    "               '68001', '68019', '68042', '68058', '68068',\n",
    "                #Iowa (Adair, Baxter, Derby, Liscomb, Rhodes)\n",
    "               '50002', '50028', '50068', '50148', '50234']\n",
    "\n",
    "url_price = [1, 2, 3, 4]"
   ]
  },
  {
   "cell_type": "code",
   "execution_count": 17,
   "metadata": {},
   "outputs": [],
   "source": [
    "#Yelp provides us with a list of 50 random results per query\n",
    "\n",
    "#loop through list of rural and suburb locations\n",
    "for location in url_location:\n",
    "    \n",
    "    #loop through list of prices $-$$$$\n",
    "    for price in url_price:\n",
    "        \n",
    "        #prepare query URL for each price range and each zip code region\n",
    "        query_url = f'{base_url} &location= {location} &price= {price} {base_filters}'\n",
    "        \n",
    "        #extract data into a response variable\n",
    "        response = requests.get(query_url, headers=headers).json()\n",
    "        \n",
    "        restaurant_list = response['businesses']\n",
    "        \n",
    "        #loop through responses and append data to empty lists\n",
    "        for restaurant in restaurant_list:\n",
    "            restaurant_name.append(restaurant[\"name\"])\n",
    "            restaurant_id.append(restaurant[\"id\"])\n",
    "            restaurant_rating.append(restaurant[\"rating\"])\n",
    "            restaurant_reviewcount.append(restaurant[\"review_count\"])\n",
    "            restaurant_price.append(len(restaurant[\"price\"]))\n",
    "            restaurant_city.append(restaurant[\"location\"][\"city\"])\n",
    "            restaurant_state.append(restaurant[\"location\"][\"state\"])\n",
    "            restaurant_zipcode.append(restaurant[\"location\"][\"zip_code\"])\n",
    "            restaurant_type.append(restaurant[\"categories\"][0][\"title\"])\n",
    "\n",
    "        #prepare dataframe from dictionary\n",
    "        restaurant_df = pd.DataFrame({'Restaurant':restaurant_name, \n",
    "                           'ID':restaurant_id,\n",
    "                           'Rating':restaurant_rating, \n",
    "                           'Reviews': restaurant_reviewcount, \n",
    "                           'Price':restaurant_price, \n",
    "                           'City': restaurant_city,\n",
    "                           'State': restaurant_state,\n",
    "                           'ZipCode':restaurant_zipcode,\n",
    "                           #need to be able to derive multiple categories\n",
    "                           'Category':restaurant_type})\n",
    "\n",
    "        restaurant_df.head()"
   ]
  },
  {
   "cell_type": "code",
   "execution_count": 29,
   "metadata": {},
   "outputs": [
    {
     "data": {
      "text/plain": [
       "Restaurant    2402\n",
       "ID            2402\n",
       "Rating        2402\n",
       "Reviews       2402\n",
       "Price         2402\n",
       "City          2402\n",
       "State         2402\n",
       "ZipCode       2402\n",
       "Category      2402\n",
       "dtype: int64"
      ]
     },
     "execution_count": 29,
     "metadata": {},
     "output_type": "execute_result"
    }
   ],
   "source": [
    "#cleanse data by deleting any NULL records\n",
    "restaurant_df.dropna(how='any')\n",
    "restaurant_df.count()"
   ]
  },
  {
   "cell_type": "code",
   "execution_count": 26,
   "metadata": {},
   "outputs": [],
   "source": [
    "#investigate data by outputting results to CSV file\n",
    "restaurant_df.to_csv(\"Restaurant_Info.csv\", index=False, encoding='utf-8')"
   ]
  },
  {
   "cell_type": "code",
   "execution_count": 30,
   "metadata": {},
   "outputs": [
    {
     "data": {
      "text/plain": [
       "94115    124\n",
       "10002    116\n",
       "94133    113\n",
       "94123     99\n",
       "10023     97\n",
       "94109     87\n",
       "10029     83\n",
       "10024     75\n",
       "94110     69\n",
       "10003     68\n",
       "94102     68\n",
       "10009     67\n",
       "10025     63\n",
       "94103     59\n",
       "10012     51\n",
       "94108     49\n",
       "94114     42\n",
       "50208     36\n",
       "50309     35\n",
       "68508     34\n",
       "10019     33\n",
       "50158     29\n",
       "94111     29\n",
       "10128     28\n",
       "68028     28\n",
       "10013     27\n",
       "50266     26\n",
       "68130     24\n",
       "68102     24\n",
       "68118     23\n",
       "        ... \n",
       "50047      1\n",
       "50120      1\n",
       "10014      1\n",
       "68502      1\n",
       "50220      1\n",
       "51566      1\n",
       "50210      1\n",
       "52577      1\n",
       "10038      1\n",
       "68050      1\n",
       "10292      1\n",
       "68066      1\n",
       "68648      1\n",
       "50313      1\n",
       "51577      1\n",
       "68016      1\n",
       "50164      1\n",
       "50621      1\n",
       "50135      1\n",
       "94129      1\n",
       "50166      1\n",
       "10069      1\n",
       "07047      1\n",
       "68029      1\n",
       "64442      1\n",
       "50613      1\n",
       "68403      1\n",
       "50067      1\n",
       "50033      1\n",
       "50274      1\n",
       "Name: ZipCode, Length: 190, dtype: int64"
      ]
     },
     "execution_count": 30,
     "metadata": {},
     "output_type": "execute_result"
    }
   ],
   "source": [
    "restaurant_df['ZipCode'].value_counts()"
   ]
  },
  {
   "cell_type": "code",
   "execution_count": null,
   "metadata": {},
   "outputs": [],
   "source": []
  }
 ],
 "metadata": {
  "kernelspec": {
   "display_name": "Python 3",
   "language": "python",
   "name": "python3"
  },
  "language_info": {
   "codemirror_mode": {
    "name": "ipython",
    "version": 3
   },
   "file_extension": ".py",
   "mimetype": "text/x-python",
   "name": "python",
   "nbconvert_exporter": "python",
   "pygments_lexer": "ipython3",
   "version": "3.6.5"
  }
 },
 "nbformat": 4,
 "nbformat_minor": 2
}
