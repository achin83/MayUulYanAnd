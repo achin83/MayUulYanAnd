{
 "cells": [
  {
   "cell_type": "code",
   "execution_count": 1,
   "metadata": {},
   "outputs": [],
   "source": [
    "# API Documentation: https://www.yelp.com/developers/documentation/v3/get_started\n",
    "# Business Search: https://www.yelp.com/developers/documentation/v3/business_search\n",
    "# Business Reviews: https://www.yelp.com/developers/documentation/v3/business_reviews\n",
    "# Authentication: https://www.yelp.com/developers/documentation/v3/authentication\n",
    "# Sample code from Yelp: https://github.com/Yelp/yelp-fusion/tree/master/fusion/python"
   ]
  },
  {
   "cell_type": "code",
   "execution_count": 15,
   "metadata": {},
   "outputs": [],
   "source": [
    "# Dependencies\n",
    "import json\n",
    "import requests\n",
    "from config import api_key, client_id\n",
    "from pprint import pprint"
   ]
  },
  {
   "cell_type": "code",
   "execution_count": 16,
   "metadata": {},
   "outputs": [],
   "source": [
    "API_HOST = 'https://api.yelp.com'\n",
    "BUSINESS_PATH = '/v3/businesses/'"
   ]
  },
  {
   "cell_type": "code",
   "execution_count": 19,
   "metadata": {},
   "outputs": [],
   "source": [
    "# Define function to retrieve Yelp reviews by business name\n",
    "def get_business(business_id):\n",
    "    business_path = BUSINESS_PATH + business_id\n",
    "    url = API_HOST + business_path + '/reviews'\n",
    "    headers = {'Authorization': f\"Bearer {api_key}\"}\n",
    "\n",
    "    response = requests.get(url, headers=headers)\n",
    "\n",
    "    return response.json()"
   ]
  },
  {
   "cell_type": "code",
   "execution_count": 20,
   "metadata": {},
   "outputs": [
    {
     "name": "stdout",
     "output_type": "stream",
     "text": [
      "{'possible_languages': ['fr', 'en', 'de', 'it', 'ja', 'es'],\n",
      " 'reviews': [{'id': 'IKWF-o4ZwzkpBTiFA6imVQ',\n",
      "              'rating': 5,\n",
      "              'text': \"I FINALLY GOT TO COME HERE. YAAASSS!!!! I've been \"\n",
      "                      'wanting to come here for years, literally, but the '\n",
      "                      'lines were always insane at any time of day so we...',\n",
      "              'time_created': '2018-09-27 22:04:45',\n",
      "              'url': 'https://www.yelp.com/biz/la-taqueria-san-francisco-2?hrid=IKWF-o4ZwzkpBTiFA6imVQ&adjust_creative=siej-rOqUcRUsJB4HrM-1Q&utm_campaign=yelp_api_v3&utm_medium=api_v3_business_reviews&utm_source=siej-rOqUcRUsJB4HrM-1Q',\n",
      "              'user': {'id': '3ECwX_mDFMZT-oWxrPAXDw',\n",
      "                       'image_url': 'https://s3-media2.fl.yelpcdn.com/photo/57Dt9Dd9NOw6RM2nl55URQ/o.jpg',\n",
      "                       'name': 'Alejandra A.',\n",
      "                       'profile_url': 'https://www.yelp.com/user_details?userid=3ECwX_mDFMZT-oWxrPAXDw'}},\n",
      "             {'id': 'EH_ptouRlc5gTZ7D_hLwFQ',\n",
      "              'rating': 4,\n",
      "              'text': 'Got the carne asada super burrito dorado style. I '\n",
      "                      \"didn't see dorado style on the menu but luckily my \"\n",
      "                      'friend knew all about it. (Dorado style is a half '\n",
      "                      'deep...',\n",
      "              'time_created': '2018-09-27 11:17:02',\n",
      "              'url': 'https://www.yelp.com/biz/la-taqueria-san-francisco-2?hrid=EH_ptouRlc5gTZ7D_hLwFQ&adjust_creative=siej-rOqUcRUsJB4HrM-1Q&utm_campaign=yelp_api_v3&utm_medium=api_v3_business_reviews&utm_source=siej-rOqUcRUsJB4HrM-1Q',\n",
      "              'user': {'id': 'U7UHESx63ig3dVrus2LWBQ',\n",
      "                       'image_url': 'https://s3-media4.fl.yelpcdn.com/photo/mNCX8SjrhuoxInWOLHOrkw/o.jpg',\n",
      "                       'name': 'Hongsuk S.',\n",
      "                       'profile_url': 'https://www.yelp.com/user_details?userid=U7UHESx63ig3dVrus2LWBQ'}},\n",
      "             {'id': 'iK2dwGFGxD6zLNlOw6TbEw',\n",
      "              'rating': 5,\n",
      "              'text': 'Go for the burrito- riceless, like it was meant to be. '\n",
      "                      'We personally love the chorizo and feel everything else '\n",
      "                      \"is a little inferior to that but I'm sure...\",\n",
      "              'time_created': '2018-09-22 09:57:12',\n",
      "              'url': 'https://www.yelp.com/biz/la-taqueria-san-francisco-2?hrid=iK2dwGFGxD6zLNlOw6TbEw&adjust_creative=siej-rOqUcRUsJB4HrM-1Q&utm_campaign=yelp_api_v3&utm_medium=api_v3_business_reviews&utm_source=siej-rOqUcRUsJB4HrM-1Q',\n",
      "              'user': {'id': 'bi6bjYIApD95j23Llm81dQ',\n",
      "                       'image_url': 'https://s3-media1.fl.yelpcdn.com/photo/fPmTh2RvQZItqJBjLeMSoA/o.jpg',\n",
      "                       'name': 'Sarmishtha S.',\n",
      "                       'profile_url': 'https://www.yelp.com/user_details?userid=bi6bjYIApD95j23Llm81dQ'}}],\n",
      " 'total': 3572}\n"
     ]
    }
   ],
   "source": [
    "results = get_business('la-taqueria-san-francisco-2')\n",
    "pprint(results)"
   ]
  },
  {
   "cell_type": "code",
   "execution_count": null,
   "metadata": {},
   "outputs": [],
   "source": []
  }
 ],
 "metadata": {
  "kernelspec": {
   "display_name": "Python 3",
   "language": "python",
   "name": "python3"
  },
  "language_info": {
   "codemirror_mode": {
    "name": "ipython",
    "version": 3
   },
   "file_extension": ".py",
   "mimetype": "text/x-python",
   "name": "python",
   "nbconvert_exporter": "python",
   "pygments_lexer": "ipython3",
   "version": "3.6.5"
  },
  "varInspector": {
   "cols": {
    "lenName": 16,
    "lenType": 16,
    "lenVar": 40
   },
   "kernels_config": {
    "python": {
     "delete_cmd_postfix": "",
     "delete_cmd_prefix": "del ",
     "library": "var_list.py",
     "varRefreshCmd": "print(var_dic_list())"
    },
    "r": {
     "delete_cmd_postfix": ") ",
     "delete_cmd_prefix": "rm(",
     "library": "var_list.r",
     "varRefreshCmd": "cat(var_dic_list()) "
    }
   },
   "types_to_exclude": [
    "module",
    "function",
    "builtin_function_or_method",
    "instance",
    "_Feature"
   ],
   "window_display": false
  }
 },
 "nbformat": 4,
 "nbformat_minor": 2
}
