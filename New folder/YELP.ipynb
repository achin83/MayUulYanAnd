{
 "cells": [
  {
   "cell_type": "code",
   "execution_count": 6,
   "metadata": {},
   "outputs": [],
   "source": [
    "#LIMITATIONS:\n",
    "#    Unable to filter by ratings (no input parameter available)"
   ]
  },
  {
   "cell_type": "code",
   "execution_count": 7,
   "metadata": {},
   "outputs": [],
   "source": [
    "# Import required dependencies\n",
    "import json\n",
    "import tweepy\n",
    "import time\n",
    "import csv\n",
    "import requests\n",
    "import pandas as pd\n",
    "import numpy as np\n",
    "from pprint import pprint\n",
    "import matplotlib.pyplot as plt\n",
    "\n",
    "#Import authentication keys\n",
    "from config import api_key, client_id, consumer_key, access_token, access_token_secret, consumer_secret\n",
    "\n",
    "# Import and Initialize Sentiment Analyzer\n",
    "from vaderSentiment.vaderSentiment import SentimentIntensityAnalyzer\n",
    "analyzer = SentimentIntensityAnalyzer()\n",
    "\n",
    "# Setup Tweepy API Authentication\n",
    "auth = tweepy.OAuthHandler(consumer_key, consumer_secret)\n",
    "auth.set_access_token(access_token, access_token_secret)\n",
    "api = tweepy.API(auth, parser=tweepy.parsers.JSONParser())"
   ]
  },
  {
   "cell_type": "code",
   "execution_count": 8,
   "metadata": {},
   "outputs": [],
   "source": [
    "#Prepare empty lists to store all data\n",
    "restaurant_name = []\n",
    "restaurant_rating = []\n",
    "restaurant_reviewcount = []\n",
    "restaurant_city = []\n",
    "restaurant_state = []\n",
    "restaurant_zipcode = []\n",
    "restaurant_price=[]\n",
    "restaurant_type = []\n",
    "restaurant_category = []\n",
    "\n",
    "#Necessary to pass header in each API request.  Do not change this.\n",
    "headers = {'Authorization': f\"Bearer {api_key}\"}\n",
    "base_url = 'https://api.yelp.com/v3/businesses/search?'\n",
    "base_filters = '&categories=Restaurants&limit=50&is_closed=0'\n",
    "\n",
    "# Construct the URL to request Yelp API data\n",
    "\n",
    "url_location = ['San Francisco, CA', 'New York, NY', 'Des Moines, IA', 'Omaha, NE']\n",
    "url_price = np.arange(1, 5, 1)\n",
    "url_offset = np.arange(0, 850, 50)"
   ]
  },
  {
   "cell_type": "code",
   "execution_count": 9,
   "metadata": {},
   "outputs": [],
   "source": [
    "#Yelp provides us with a list of 50 results per query\n",
    "\n",
    "#loop through different page sets (e.g. 0-50, 51-100, 101-150...)\n",
    "for off in url_offset:\n",
    "\n",
    "    #loop through list of rural and suburb locations\n",
    "    for location in url_location:\n",
    "\n",
    "        #loop through list of prices $-$$$$\n",
    "        for price in url_price:\n",
    "\n",
    "            #prepare query URL for each price range and each zip code region\n",
    "            query_url = f'{base_url}&location={location}&price={price}{base_filters}&offset={off}'\n",
    "\n",
    "            #extract data into a response variable\n",
    "            response = requests.get(query_url, headers=headers).json()\n",
    "\n",
    "            restaurant_list = response['businesses']\n",
    "\n",
    "            #loop through responses and append data to empty lists\n",
    "            for restaurant in restaurant_list:\n",
    "                restaurant_name.append(restaurant[\"name\"])\n",
    "                restaurant_rating.append(restaurant[\"rating\"])\n",
    "                restaurant_reviewcount.append(restaurant[\"review_count\"])\n",
    "                restaurant_price.append(len(restaurant[\"price\"]))\n",
    "                restaurant_city.append(restaurant[\"location\"][\"city\"])\n",
    "                restaurant_state.append(restaurant[\"location\"][\"state\"])\n",
    "                restaurant_zipcode.append(restaurant[\"location\"][\"zip_code\"])\n",
    "                restaurant_type.append(restaurant[\"categories\"][0][\"title\"])\n",
    "\n",
    "            #prepare dataframe from dictionary\n",
    "            restaurant_df = pd.DataFrame({'Restaurant':restaurant_name, \n",
    "                               'Rating':restaurant_rating, \n",
    "                               'Reviews': restaurant_reviewcount, \n",
    "                               'Price':restaurant_price, \n",
    "                               'City': restaurant_city,\n",
    "                               'State': restaurant_state,\n",
    "                               'ZipCode':restaurant_zipcode,\n",
    "                               #need to be able to derive multiple categories\n",
    "                               'Category':restaurant_type})"
   ]
  },
  {
   "cell_type": "code",
   "execution_count": 10,
   "metadata": {},
   "outputs": [
    {
     "data": {
      "text/plain": [
       "Restaurant    7283\n",
       "Rating        7283\n",
       "Reviews       7283\n",
       "Price         7283\n",
       "City          7283\n",
       "State         7283\n",
       "ZipCode       7283\n",
       "Category      7283\n",
       "dtype: int64"
      ]
     },
     "execution_count": 10,
     "metadata": {},
     "output_type": "execute_result"
    }
   ],
   "source": [
    "#drop duplicate records by restaurant and city\n",
    "restaurant_df.dropna(how='any')\n",
    "restaurant_df.count()"
   ]
  },
  {
   "cell_type": "code",
   "execution_count": 13,
   "metadata": {},
   "outputs": [],
   "source": [
    "#investigate data by outputting results to CSV file\n",
    "restaurant_df.to_csv(\"Restaurant_Info.csv\", index=False, encoding='utf-8')"
   ]
  },
  {
   "cell_type": "code",
   "execution_count": 14,
   "metadata": {},
   "outputs": [
    {
     "data": {
      "text/html": [
       "<div>\n",
       "<style scoped>\n",
       "    .dataframe tbody tr th:only-of-type {\n",
       "        vertical-align: middle;\n",
       "    }\n",
       "\n",
       "    .dataframe tbody tr th {\n",
       "        vertical-align: top;\n",
       "    }\n",
       "\n",
       "    .dataframe thead th {\n",
       "        text-align: right;\n",
       "    }\n",
       "</style>\n",
       "<table border=\"1\" class=\"dataframe\">\n",
       "  <thead>\n",
       "    <tr style=\"text-align: right;\">\n",
       "      <th></th>\n",
       "      <th>Restaurant</th>\n",
       "      <th>Rating</th>\n",
       "      <th>Reviews</th>\n",
       "      <th>Price</th>\n",
       "      <th>City</th>\n",
       "      <th>State</th>\n",
       "      <th>ZipCode</th>\n",
       "      <th>Category</th>\n",
       "    </tr>\n",
       "  </thead>\n",
       "  <tbody>\n",
       "    <tr>\n",
       "      <th>0</th>\n",
       "      <td>Bi-Rite Creamery</td>\n",
       "      <td>4.5</td>\n",
       "      <td>9349</td>\n",
       "      <td>1</td>\n",
       "      <td>San Francisco</td>\n",
       "      <td>CA</td>\n",
       "      <td>94110.0</td>\n",
       "      <td>Ice Cream &amp; Frozen Yogurt</td>\n",
       "    </tr>\n",
       "    <tr>\n",
       "      <th>1</th>\n",
       "      <td>Mitchell's Ice Cream</td>\n",
       "      <td>4.5</td>\n",
       "      <td>3709</td>\n",
       "      <td>1</td>\n",
       "      <td>San Francisco</td>\n",
       "      <td>CA</td>\n",
       "      <td>94110.0</td>\n",
       "      <td>Ice Cream &amp; Frozen Yogurt</td>\n",
       "    </tr>\n",
       "    <tr>\n",
       "      <th>2</th>\n",
       "      <td>El Farolito</td>\n",
       "      <td>4.0</td>\n",
       "      <td>4506</td>\n",
       "      <td>1</td>\n",
       "      <td>San Francisco</td>\n",
       "      <td>CA</td>\n",
       "      <td>94110.0</td>\n",
       "      <td>Mexican</td>\n",
       "    </tr>\n",
       "    <tr>\n",
       "      <th>3</th>\n",
       "      <td>Saigon Sandwich</td>\n",
       "      <td>4.5</td>\n",
       "      <td>3067</td>\n",
       "      <td>1</td>\n",
       "      <td>San Francisco</td>\n",
       "      <td>CA</td>\n",
       "      <td>94102.0</td>\n",
       "      <td>Vietnamese</td>\n",
       "    </tr>\n",
       "    <tr>\n",
       "      <th>4</th>\n",
       "      <td>Golden Boy Pizza</td>\n",
       "      <td>4.5</td>\n",
       "      <td>3065</td>\n",
       "      <td>1</td>\n",
       "      <td>San Francisco</td>\n",
       "      <td>CA</td>\n",
       "      <td>94133.0</td>\n",
       "      <td>Pizza</td>\n",
       "    </tr>\n",
       "  </tbody>\n",
       "</table>\n",
       "</div>"
      ],
      "text/plain": [
       "             Restaurant  Rating  Reviews  Price           City State  ZipCode  \\\n",
       "0      Bi-Rite Creamery     4.5     9349      1  San Francisco    CA  94110.0   \n",
       "1  Mitchell's Ice Cream     4.5     3709      1  San Francisco    CA  94110.0   \n",
       "2           El Farolito     4.0     4506      1  San Francisco    CA  94110.0   \n",
       "3       Saigon Sandwich     4.5     3067      1  San Francisco    CA  94102.0   \n",
       "4      Golden Boy Pizza     4.5     3065      1  San Francisco    CA  94133.0   \n",
       "\n",
       "                    Category  \n",
       "0  Ice Cream & Frozen Yogurt  \n",
       "1  Ice Cream & Frozen Yogurt  \n",
       "2                    Mexican  \n",
       "3                 Vietnamese  \n",
       "4                      Pizza  "
      ]
     },
     "execution_count": 14,
     "metadata": {},
     "output_type": "execute_result"
    }
   ],
   "source": [
    "#START FROM HERE TO PREVENT LOADING A LOT OF DATA\n",
    "#-------------------------------------------------\n",
    "\n",
    "#read CSV and output to another dataframe\n",
    "restaurant_df2 = pd.read_csv(\"Restaurant_Info.csv\")\n",
    "restaurant_df2.head()"
   ]
  },
  {
   "cell_type": "code",
   "execution_count": 15,
   "metadata": {},
   "outputs": [
    {
     "data": {
      "text/plain": [
       "New York              2183\n",
       "San Francisco         2039\n",
       "Omaha                 1196\n",
       "Des Moines             470\n",
       "Brooklyn               451\n",
       "West Des Moines        182\n",
       "Ankeny                 113\n",
       "Astoria                 85\n",
       "Clive                   67\n",
       "Urbandale               64\n",
       "Bellevue                47\n",
       "La Vista                40\n",
       "Altoona                 40\n",
       "Papillion               34\n",
       "Johnston                33\n",
       "Long Island City        21\n",
       "Jersey City             21\n",
       "Grimes                  18\n",
       "Staten Island           16\n",
       "Jackson Heights         13\n",
       "Elmhurst                13\n",
       "Windsor Heights         13\n",
       "Hoboken                 10\n",
       "Woodside                 9\n",
       "Ralston                  8\n",
       "Carlisle                 7\n",
       "Norwalk                  6\n",
       "Daly City                5\n",
       "Sunnyside                5\n",
       "Corona                   5\n",
       "                      ... \n",
       "Maspeth                  3\n",
       "Rego Park                2\n",
       "Waukee                   2\n",
       "East Elmhurst            2\n",
       "Cumming                  2\n",
       "New York City            2\n",
       "W. Des Moines            2\n",
       "OMAHA                    2\n",
       "Middle Village           2\n",
       "Williamsburg             2\n",
       "Bedford-Stuyvesant       2\n",
       "Des  Moines              1\n",
       "W Des Moines             1\n",
       "Winterset                1\n",
       "Union City               1\n",
       "Boerum Hill              1\n",
       "Carter Lake              1\n",
       "Glendale                 1\n",
       "Bayonne                  1\n",
       "Bushwick                 1\n",
       "Downtown Brooklyn        1\n",
       "Millard                  1\n",
       "Clinton Hill             1\n",
       "Lincoln                  1\n",
       "North Bergen             1\n",
       "San  Francisco           1\n",
       "Uptown Hoboken           1\n",
       "RIdgewood                1\n",
       "Gowanus                  1\n",
       "Lavista                  1\n",
       "Name: City, Length: 67, dtype: int64"
      ]
     },
     "execution_count": 15,
     "metadata": {},
     "output_type": "execute_result"
    }
   ],
   "source": [
    "restaurant_df2['City'].value_counts()"
   ]
  },
  {
   "cell_type": "code",
   "execution_count": 16,
   "metadata": {},
   "outputs": [],
   "source": [
    "#Prepare data for chart: # of restaurants by cuisine\n",
    "categories = restaurant_df2[\"Category\"].value_counts()\n",
    "categories_df = pd.DataFrame({'category':categories.index,'counts':categories.values})\n",
    "popular_cuisines = categories_df.loc[categories_df[\"counts\"]>200,[\"category\",\"counts\"]]"
   ]
  },
  {
   "cell_type": "code",
   "execution_count": 18,
   "metadata": {},
   "outputs": [
    {
     "data": {
      "image/png": "[encoded data removed]",
      "text/plain": [
       "<Figure size 720x432 with 1 Axes>"
      ]
     },
     "metadata": {},
     "output_type": "display_data"
    }
   ],
   "source": [
    "#Plot bar chart: # of restaurants by cuisine\n",
    "popular_cuisines.plot(x=\"category\",y=\"counts\",kind=\"bar\",figsize=(10,6))\n",
    "plt.xlabel(\"Number of restaurants\")\n",
    "plt.ylabel(\"Cuisine(count)\")\n",
    "plt.title(\"Sample data for representing number of restaurants\")\n",
    "\n",
    "plt.show()"
   ]
  },
  {
   "cell_type": "code",
   "execution_count": 19,
   "metadata": {},
   "outputs": [],
   "source": [
    "#Prepare dataframe for comparing # of reviews by price between San Francisco and New York\n",
    "#Metropolitan/Urban cities\n",
    "sanfrancisco = restaurant_df2.groupby('City').get_group('San Francisco')\n",
    "newyork = restaurant_df2.groupby('City').get_group(\"New York\")"
   ]
  },
  {
   "cell_type": "code",
   "execution_count": 20,
   "metadata": {},
   "outputs": [
    {
     "data": {
      "image/png": "[encoded data removed]",
      "text/plain": [
       "<Figure size 720x432 with 1 Axes>"
      ]
     },
     "metadata": {},
     "output_type": "display_data"
    }
   ],
   "source": [
    "#Plot vertical bar chart: comparing # of reviews by price between San Francisco and New York\n",
    "plt.figure(figsize=(10,6))\n",
    "plt.bar(sanfrancisco[\"Price\"],sanfrancisco[\"Reviews\"],width=0.2,color='black',align='center',label=\"SF\")\n",
    "plt.bar((newyork[\"Price\"]+0.2),newyork[\"Reviews\"],width=0.2,color='r',align='center',label=\"NY\")\n",
    "plt.xlabel(\"Price\")\n",
    "plt.ylabel(\"Reviews count\")\n",
    "plt.legend(loc=\"upper left\", bbox_to_anchor=(1,1))\n",
    "plt.title(\"Correlation between price and reviews in San Francisco and New York\")\n",
    "\n",
    "#plt.figure(figsize=(10,6))\n",
    "plt.xticks(np.arange(6),(0,1,2,3,4))\n",
    "plt.plot()\n",
    "plt.show()"
   ]
  },
  {
   "cell_type": "code",
   "execution_count": 24,
   "metadata": {},
   "outputs": [],
   "source": [
    "#Prepare dataframe for comparing # of reviews by price between urban and rural states (CA+SF vs. NE+IA)\n",
    "#Rural cities\n",
    "urban = restaurant_df.loc[restaurant_df2[\"State\"].isin([\"CA\",\"NY\"])]\n",
    "rural = restaurant_df.loc[restaurant_df2[\"State\"].isin([\"IA\",\"NE\"])]"
   ]
  },
  {
   "cell_type": "code",
   "execution_count": 26,
   "metadata": {},
   "outputs": [],
   "source": [
    "#Prepare dataframe for illustrating cuisines by primary category\n",
    "#Only retrieve categories where # of restaurants in each category > 160\n",
    "urbancategories = urban[\"Category\"].value_counts()\n",
    "urbancategories_df = pd.DataFrame({'category':urbancategories.index, 'counts':urbancategories.values})\n",
    "popular_urban_cuisines = urbancategories_df.loc[urbancategories_df[\"counts\"]>160,[\"category\",\"counts\"]]"
   ]
  },
  {
   "cell_type": "code",
   "execution_count": 27,
   "metadata": {},
   "outputs": [
    {
     "ename": "ValueError",
     "evalue": "'explode' must be of length 'x'",
     "output_type": "error",
     "traceback": [
      "\u001b[1;31m---------------------------------------------------------------------------\u001b[0m",
      "\u001b[1;31mValueError\u001b[0m                                Traceback (most recent call last)",
      "\u001b[1;32m<ipython-input-27-9f193917c162>\u001b[0m in \u001b[0;36m<module>\u001b[1;34m()\u001b[0m\n\u001b[0;32m      2\u001b[0m plt.pie(popular_urban_cuisines[\"counts\"], labels=popular_urban_cuisines['category'],\n\u001b[0;32m      3\u001b[0m          \u001b[0mexplode\u001b[0m\u001b[1;33m=\u001b[0m\u001b[1;33m(\u001b[0m\u001b[1;36m0\u001b[0m\u001b[1;33m,\u001b[0m\u001b[1;36m0.1\u001b[0m\u001b[1;33m,\u001b[0m\u001b[1;36m0\u001b[0m\u001b[1;33m,\u001b[0m\u001b[1;36m0.1\u001b[0m\u001b[1;33m,\u001b[0m\u001b[1;36m0\u001b[0m\u001b[1;33m)\u001b[0m\u001b[1;33m,\u001b[0m\u001b[0mautopct\u001b[0m\u001b[1;33m=\u001b[0m\u001b[1;34m'%1.f%%'\u001b[0m\u001b[1;33m,\u001b[0m\u001b[0mradius\u001b[0m\u001b[1;33m=\u001b[0m\u001b[1;36m2\u001b[0m\u001b[1;33m,\u001b[0m\u001b[1;33m\u001b[0m\u001b[0m\n\u001b[1;32m----> 4\u001b[1;33m          shadow=True, startangle=160)\n\u001b[0m\u001b[0;32m      5\u001b[0m \u001b[0mplt\u001b[0m\u001b[1;33m.\u001b[0m\u001b[0msavefig\u001b[0m\u001b[1;33m(\u001b[0m\u001b[1;34m\"Top 5 type of restaurants in Urban areas\"\u001b[0m\u001b[1;33m)\u001b[0m\u001b[1;33m\u001b[0m\u001b[0m\n\u001b[0;32m      6\u001b[0m \u001b[0mplt\u001b[0m\u001b[1;33m.\u001b[0m\u001b[0mshow\u001b[0m\u001b[1;33m(\u001b[0m\u001b[1;33m)\u001b[0m\u001b[1;33m\u001b[0m\u001b[0m\n",
      "\u001b[1;32m~\\Anaconda3\\lib\\site-packages\\matplotlib\\pyplot.py\u001b[0m in \u001b[0;36mpie\u001b[1;34m(x, explode, labels, colors, autopct, pctdistance, shadow, labeldistance, startangle, radius, counterclock, wedgeprops, textprops, center, frame, rotatelabels, hold, data)\u001b[0m\n\u001b[0;32m   3336\u001b[0m                      \u001b[0mradius\u001b[0m\u001b[1;33m=\u001b[0m\u001b[0mradius\u001b[0m\u001b[1;33m,\u001b[0m \u001b[0mcounterclock\u001b[0m\u001b[1;33m=\u001b[0m\u001b[0mcounterclock\u001b[0m\u001b[1;33m,\u001b[0m\u001b[1;33m\u001b[0m\u001b[0m\n\u001b[0;32m   3337\u001b[0m                      \u001b[0mwedgeprops\u001b[0m\u001b[1;33m=\u001b[0m\u001b[0mwedgeprops\u001b[0m\u001b[1;33m,\u001b[0m \u001b[0mtextprops\u001b[0m\u001b[1;33m=\u001b[0m\u001b[0mtextprops\u001b[0m\u001b[1;33m,\u001b[0m \u001b[0mcenter\u001b[0m\u001b[1;33m=\u001b[0m\u001b[0mcenter\u001b[0m\u001b[1;33m,\u001b[0m\u001b[1;33m\u001b[0m\u001b[0m\n\u001b[1;32m-> 3338\u001b[1;33m                      frame=frame, rotatelabels=rotatelabels, data=data)\n\u001b[0m\u001b[0;32m   3339\u001b[0m     \u001b[1;32mfinally\u001b[0m\u001b[1;33m:\u001b[0m\u001b[1;33m\u001b[0m\u001b[0m\n\u001b[0;32m   3340\u001b[0m         \u001b[0max\u001b[0m\u001b[1;33m.\u001b[0m\u001b[0m_hold\u001b[0m \u001b[1;33m=\u001b[0m \u001b[0mwashold\u001b[0m\u001b[1;33m\u001b[0m\u001b[0m\n",
      "\u001b[1;32m~\\Anaconda3\\lib\\site-packages\\matplotlib\\__init__.py\u001b[0m in \u001b[0;36minner\u001b[1;34m(ax, *args, **kwargs)\u001b[0m\n\u001b[0;32m   1853\u001b[0m                         \u001b[1;34m\"the Matplotlib list!)\"\u001b[0m \u001b[1;33m%\u001b[0m \u001b[1;33m(\u001b[0m\u001b[0mlabel_namer\u001b[0m\u001b[1;33m,\u001b[0m \u001b[0mfunc\u001b[0m\u001b[1;33m.\u001b[0m\u001b[0m__name__\u001b[0m\u001b[1;33m)\u001b[0m\u001b[1;33m,\u001b[0m\u001b[1;33m\u001b[0m\u001b[0m\n\u001b[0;32m   1854\u001b[0m                         RuntimeWarning, stacklevel=2)\n\u001b[1;32m-> 1855\u001b[1;33m             \u001b[1;32mreturn\u001b[0m \u001b[0mfunc\u001b[0m\u001b[1;33m(\u001b[0m\u001b[0max\u001b[0m\u001b[1;33m,\u001b[0m \u001b[1;33m*\u001b[0m\u001b[0margs\u001b[0m\u001b[1;33m,\u001b[0m \u001b[1;33m**\u001b[0m\u001b[0mkwargs\u001b[0m\u001b[1;33m)\u001b[0m\u001b[1;33m\u001b[0m\u001b[0m\n\u001b[0m\u001b[0;32m   1856\u001b[0m \u001b[1;33m\u001b[0m\u001b[0m\n\u001b[0;32m   1857\u001b[0m         inner.__doc__ = _add_data_doc(inner.__doc__,\n",
      "\u001b[1;32m~\\Anaconda3\\lib\\site-packages\\matplotlib\\axes\\_axes.py\u001b[0m in \u001b[0;36mpie\u001b[1;34m(self, x, explode, labels, colors, autopct, pctdistance, shadow, labeldistance, startangle, radius, counterclock, wedgeprops, textprops, center, frame, rotatelabels)\u001b[0m\n\u001b[0;32m   2858\u001b[0m             \u001b[1;32mraise\u001b[0m \u001b[0mValueError\u001b[0m\u001b[1;33m(\u001b[0m\u001b[1;34m\"'label' must be of length 'x'\"\u001b[0m\u001b[1;33m)\u001b[0m\u001b[1;33m\u001b[0m\u001b[0m\n\u001b[0;32m   2859\u001b[0m         \u001b[1;32mif\u001b[0m \u001b[0mlen\u001b[0m\u001b[1;33m(\u001b[0m\u001b[0mx\u001b[0m\u001b[1;33m)\u001b[0m \u001b[1;33m!=\u001b[0m \u001b[0mlen\u001b[0m\u001b[1;33m(\u001b[0m\u001b[0mexplode\u001b[0m\u001b[1;33m)\u001b[0m\u001b[1;33m:\u001b[0m\u001b[1;33m\u001b[0m\u001b[0m\n\u001b[1;32m-> 2860\u001b[1;33m             \u001b[1;32mraise\u001b[0m \u001b[0mValueError\u001b[0m\u001b[1;33m(\u001b[0m\u001b[1;34m\"'explode' must be of length 'x'\"\u001b[0m\u001b[1;33m)\u001b[0m\u001b[1;33m\u001b[0m\u001b[0m\n\u001b[0m\u001b[0;32m   2861\u001b[0m         \u001b[1;32mif\u001b[0m \u001b[0mcolors\u001b[0m \u001b[1;32mis\u001b[0m \u001b[1;32mNone\u001b[0m\u001b[1;33m:\u001b[0m\u001b[1;33m\u001b[0m\u001b[0m\n\u001b[0;32m   2862\u001b[0m             \u001b[0mget_next_color\u001b[0m \u001b[1;33m=\u001b[0m \u001b[0mself\u001b[0m\u001b[1;33m.\u001b[0m\u001b[0m_get_patches_for_fill\u001b[0m\u001b[1;33m.\u001b[0m\u001b[0mget_next_color\u001b[0m\u001b[1;33m\u001b[0m\u001b[0m\n",
      "\u001b[1;31mValueError\u001b[0m: 'explode' must be of length 'x'"
     ]
    },
    {
     "data": {
      "image/png": "[encoded data removed]",
      "text/plain": [
       "<Figure size 432x288 with 1 Axes>"
      ]
     },
     "metadata": {},
     "output_type": "display_data"
    }
   ],
   "source": [
    "\n",
    "plt.pie(popular_urban_cuisines[\"counts\"], labels=popular_urban_cuisines['category'],\n",
    "         explode=(0,0.1,0,0.1,0),autopct='%1.f%%',radius=2,\n",
    "         shadow=True, startangle=160)\n",
    "plt.savefig(\"Top 5 type of restaurants in Urban areas\")\n",
    "plt.show()"
   ]
  },
  {
   "cell_type": "code",
   "execution_count": null,
   "metadata": {},
   "outputs": [],
   "source": []
  },
  {
   "cell_type": "code",
   "execution_count": null,
   "metadata": {},
   "outputs": [],
   "source": []
  },
  {
   "cell_type": "code",
   "execution_count": null,
   "metadata": {},
   "outputs": [],
   "source": []
  },
  {
   "cell_type": "code",
   "execution_count": null,
   "metadata": {},
   "outputs": [],
   "source": []
  },
  {
   "cell_type": "code",
   "execution_count": null,
   "metadata": {},
   "outputs": [],
   "source": []
  },
  {
   "cell_type": "code",
   "execution_count": null,
   "metadata": {},
   "outputs": [],
   "source": []
  },
  {
   "cell_type": "code",
   "execution_count": null,
   "metadata": {
    "scrolled": false
   },
   "outputs": [],
   "source": [
    "#Declare empty list to hold tweets by ID\n",
    "#Declare word to search for and exclude retweets\n",
    "tweet_list = []\n",
    "word = 'RT @'\n",
    "\n",
    "#Begin Twitter search\n",
    "hashtag = ['#garydanko', \"#misterjius\", \"#in-n-out\"]\n",
    "\n",
    "#Loop through each hashtag\n",
    "for tag in hashtag:\n",
    "    \n",
    "    #Retrieve 500 most recent tweets\n",
    "    hashtag_tweets = api.search(tag, rpp=100)\n",
    "    \n",
    "    #Loop through each tweet\n",
    "    for tweet in hashtag_tweets[\"statuses\"]:\n",
    "        \n",
    "        #Declare tweet_text = primary text of tweet\n",
    "        tweet_text = tweet[\"text\"]\n",
    "        \n",
    "        #Identify and exclude retweets\n",
    "        if word in tweet['text']:\n",
    "            continue\n",
    "        else:\n",
    "            tweet_list.append({\"Hashtag\": tag,\n",
    "                               \"Tweet\": tweet_text})\n",
    "\n",
    "len(tweet_list)"
   ]
  },
  {
   "cell_type": "code",
   "execution_count": null,
   "metadata": {},
   "outputs": [],
   "source": [
    "# Create CSV file\n",
    "with open('tweets.csv', 'w', newline='') as csvfile:\n",
    "     fields = ['Hashtag', 'Tweet']\n",
    "     writer = csv.DictWriter(csvfile, fieldnames=fields)\n",
    "     writer.writeheader()\n",
    "     for x in tweet_list:\n",
    "         writer.writerow(x)"
   ]
  },
  {
   "cell_type": "code",
   "execution_count": null,
   "metadata": {},
   "outputs": [],
   "source": [
    "f = pd.read_csv('tweets.csv', encoding='windows-1252')\n",
    "f"
   ]
  },
  {
   "cell_type": "code",
   "execution_count": null,
   "metadata": {},
   "outputs": [],
   "source": [
    "word = \"hello world\"\n",
    "mystring = \"hello worl\"\n",
    "\n",
    "if word not in mystring: \n",
    "    print('Word does not exist in string')\n",
    "else:\n",
    "    print('Word exists in string')"
   ]
  },
  {
   "cell_type": "code",
   "execution_count": null,
   "metadata": {},
   "outputs": [],
   "source": []
  }
 ],
 "metadata": {
  "kernelspec": {
   "display_name": "Python 3",
   "language": "python",
   "name": "python3"
  },
  "language_info": {
   "codemirror_mode": {
    "name": "ipython",
    "version": 3
   },
   "file_extension": ".py",
   "mimetype": "text/x-python",
   "name": "python",
   "nbconvert_exporter": "python",
   "pygments_lexer": "ipython3",
   "version": "3.6.5"
  }
 },
 "nbformat": 4,
 "nbformat_minor": 2
}
